{
 "cells": [
  {
   "cell_type": "markdown",
   "metadata": {},
   "source": [
    "# U.S. Medical Insurance Costs"
   ]
  },
  {
   "cell_type": "markdown",
   "metadata": {},
   "source": [
    "The aim of this project is to analyse and consider the insurance costs of various individuals from a real world dataset.\n",
    "\n",
    "The data provided presents us with the following data on each individual\n",
    "* Age - The age of each individual\n",
    "* Gender - The gender of each individual\n",
    "* BMI - The BMI of each individual\n",
    "* Children - The number of children each individual has\n",
    "* Smoker status - Whether or not the individual is a smoker\n",
    "* Region - The region the individual is from\n",
    "* Costs - The total charges the individual was billed\n",
    "\n",
    "We will want to look at which of these variables has the biggest impact on the insurance charges and the differences in average cost between the various groups. Some questions that may be considered\n",
    "* What effect does age have on cost?\n",
    "* Do females or males pay more on average?\n",
    "* What effect does BMI have on cost?\n",
    "* Does having children increase or decrease medical costs?\n",
    "* How much more do smokers pay on average compared to non-smokers?\n",
    "* Which regions have the lowest and highest average costs?"
   ]
  },
  {
   "cell_type": "code",
   "execution_count": 5,
   "metadata": {},
   "outputs": [],
   "source": [
    "# import pandas as pd\n",
    "# medical_data = pd.read_csv(\"insurance.csv\")\n",
    "# print(medical_data.head(10))\n",
    "\n",
    "import csv\n",
    "#initialising lists for the different variables for analysis\n",
    "ages = []\n",
    "sex = []\n",
    "bmi = []\n",
    "children = []\n",
    "smoker = []\n",
    "region = []\n",
    "charges = []\n",
    "with open(\"insurance.csv\", newline = \"\") as csvfile: #using the csv importer and the dictreader module to read each row as a dictionary\n",
    "    reader = csv.DictReader(csvfile)\n",
    "    for row in reader: #adding each variable of data to the relevant list\n",
    "        ages.append(row[\"age\"])\n",
    "        sex.append(row[\"sex\"])\n",
    "        bmi.append(row[\"bmi\"])\n",
    "        children.append(row[\"children\"])\n",
    "        smoker.append(row[\"smoker\"])\n",
    "        region.append(row[\"region\"])\n",
    "        charges.append(row[\"charges\"])\n",
    "        "
   ]
  },
  {
   "cell_type": "markdown",
   "metadata": {},
   "source": [
    "# What effect does age have on cost?\n",
    "\n",
    "The first question will be to consider if there is a relationship between the age and the insurance charges. We will consider ages in brackets of 10 years and what the average costs are for each age bracket. We can then see which age bracket has the highest average costs and which has the lowest. The age brackets will go up in increments of 10 with a final over 70 bracket to account for those who are past retirement age.\n",
    "\n"
   ]
  },
  {
   "cell_type": "code",
   "execution_count": 7,
   "metadata": {},
   "outputs": [
    {
     "name": "stdout",
     "output_type": "stream",
     "text": [
      "There are no people in the category 0 - 10 years\n",
      "There are 166 in the 11 - 20 years group. The average cost for this category is 8713.48 dollars\n",
      "There are 278 in the 21 - 30 years group. The average cost for this category is 9806.03 dollars\n",
      "There are 257 in the 31 - 40 years group. The average cost for this category is 11639.31 dollars\n",
      "There are 281 in the 41 - 50 years group. The average cost for this category is 14782.04 dollars\n",
      "There are 265 in the 51 - 60 years group. The average cost for this category is 17062.29 dollars\n",
      "There are 91 in the 61 - 70 years group. The average cost for this category is 21063.16 dollars\n",
      "There are no people in the category Over 70 years\n",
      "This completes the data\n",
      "The average age of all people in the data is 39.2\n"
     ]
    }
   ],
   "source": [
    "\n",
    "def age_cost_average(age_list, cost_list): #takes in a list of ages and corresponding list of insurance charges and initializes a dictionary with keys that are age groups in intervals of 10\n",
    "  age_cost_dictionary = {\"0 - 10 years\": {\"total_people\": 0, \"total_charges\": 0}, \"11 - 20 years\": {\"total_people\": 0, \"total_charges\": 0}, \"21 - 30 years\": {\"total_people\": 0, \"total_charges\": 0}, \"31 - 40 years\": {\"total_people\": 0, \"total_charges\": 0}, \"41 - 50 years\": {\"total_people\": 0, \"total_charges\": 0}, \"51 - 60 years\": {\"total_people\": 0, \"total_charges\": 0}, \"61 - 70 years\": {\"total_people\": 0, \"total_charges\": 0}, \"Over 70 years\": {\"total_people\": 0, \"total_charges\": 0}}\n",
    "  for age, cost in zip(age_list, cost_list):\n",
    "    if int(age) <= 10: #checks the age of the patient and adds 1 and the cost to the corresponding dictionary key\n",
    "        age_cost_dictionary[\"0 - 10 years\"][\"total_people\"] += 1\n",
    "        age_cost_dictionary[\"0 - 10 years\"][\"total_charges\"] += float(cost)\n",
    "    elif int(age) <= 20:\n",
    "        age_cost_dictionary[\"11 - 20 years\"][\"total_people\"] += 1\n",
    "        age_cost_dictionary[\"11 - 20 years\"][\"total_charges\"] += float(cost)\n",
    "    elif int(age) <= 30:\n",
    "        age_cost_dictionary[\"21 - 30 years\"][\"total_people\"] += 1\n",
    "        age_cost_dictionary[\"21 - 30 years\"][\"total_charges\"] += float(cost)\n",
    "    elif int(age) <= 40:\n",
    "        age_cost_dictionary[\"31 - 40 years\"][\"total_people\"] += 1\n",
    "        age_cost_dictionary[\"31 - 40 years\"][\"total_charges\"] += float(cost)\n",
    "    elif int(age) <= 50:\n",
    "        age_cost_dictionary[\"41 - 50 years\"][\"total_people\"] += 1\n",
    "        age_cost_dictionary[\"41 - 50 years\"][\"total_charges\"] += float(cost)\n",
    "    elif int(age) <= 60:\n",
    "        age_cost_dictionary[\"51 - 60 years\"][\"total_people\"] += 1\n",
    "        age_cost_dictionary[\"51 - 60 years\"][\"total_charges\"] += float(cost)\n",
    "    elif int(age) <= 70:\n",
    "        age_cost_dictionary[\"61 - 70 years\"][\"total_people\"] += 1\n",
    "        age_cost_dictionary[\"61 - 70 years\"][\"total_charges\"] += float(cost)\n",
    "    else:\n",
    "        age_cost_dictionary[\"Over 70 years\"][\"total_people\"] += 1\n",
    "        age_cost_dictionary[\"Over 70 years\"][\"total_charges\"] += float(cost)\n",
    "  for key in age_cost_dictionary.keys(): #iterates through each key, if the key has no people in it, it returns the printed message\n",
    "      if age_cost_dictionary[key][\"total_people\"] == 0:\n",
    "          print(f\"There are no people in the category {key}\")\n",
    "      else: #else it calculate the average cost for those in the key and returns a formatted string.\n",
    "          average_cost = round(age_cost_dictionary[key][\"total_charges\"] / age_cost_dictionary[key][\"total_people\"], 2)\n",
    "          print(f\"There are {age_cost_dictionary[key]['total_people']} in the {key} group. The average cost for this category is {average_cost} dollars\")\n",
    "  return \"This completes the data\" #to avoid a return of non\n",
    "\n",
    "total_age = 0\n",
    "for age in ages: #finds the average age of the data set\n",
    "    total_age += int(age)\n",
    "average_age = round(total_age / len(ages), 1)\n",
    "    \n",
    "\n",
    "    \n",
    "print(age_cost_average(ages, charges))\n",
    "print(f\"The average age of all people in the data is {average_age}\") #formatted string for the average age\n",
    "        "
   ]
  },
  {
   "cell_type": "markdown",
   "metadata": {},
   "source": [
    "From the statements above we can see that the average costs increase as age also increases with those in the 61 - 70 bracket paying more than 2.5x the amount that those in the 11 - 20 bracket pay. The number if people in the 3rd, 4th, 5th, and 6th bracket are broadly similar, with the 41-50 group being the marginally larger group.\n",
    "\n",
    "The difference in average costs increases for each bracket showing that this may not be a linear relationship between age and cost, starting at around \\$1000 difference between the 11 - 20 and 21 - 30 bracket, increasing to around \\$4000 diffeence between the 51 - 60 and 61 - 70 brackets. There is a small anomaly between the 31 - 40 bracket, 41 - 50 bracket and the 51 - 60 bracket, with the difference in the average being greater betweeen the first 2 brackets compared to the final two brackets. This may suggest another underlying factor in the insurance costs in the 41 - 50 bracket to cause the spike."
   ]
  },
  {
   "cell_type": "markdown",
   "metadata": {},
   "source": [
    "# Do males or females pay more on average?\n",
    "\n",
    "The next question to consider whether males or females face higher charges. This will not consider the age categories for the time being."
   ]
  },
  {
   "cell_type": "code",
   "execution_count": 13,
   "metadata": {},
   "outputs": [
    {
     "name": "stdout",
     "output_type": "stream",
     "text": [
      "The number of male's in the data is 676 and the average cost for them is 13956.75 dollars\n",
      "The number of female's in the data is 662 and the average cost for them is 12569.58 dollars\n",
      "This completes the data\n"
     ]
    }
   ],
   "source": [
    "def sex_cost_average(sex_list, cost_list): #takes in a list of sex data and costs and initializes a dictionary as before\n",
    "    sex_cost_dict = {\"male\" : {\"number_of_people\": 0, \"total_costs\": 0}, \"female\" : {\"number_of_people\": 0, \"total_costs\": 0}}\n",
    "    for sex, cost in zip(sex_list, cost_list):\n",
    "        if sex == \"male\":\n",
    "            sex_cost_dict[\"male\"][\"number_of_people\"] += 1\n",
    "            sex_cost_dict[\"male\"][\"total_costs\"] += float(cost)\n",
    "        elif sex == \"female\":\n",
    "            sex_cost_dict[\"female\"][\"number_of_people\"] += 1\n",
    "            sex_cost_dict[\"female\"][\"total_costs\"] += float(cost)\n",
    "    for key in sex_cost_dict.keys(): #since it is unlikely there will be no males or females, error checking is ignored. \n",
    "        average_cost = round(sex_cost_dict[key][\"total_costs\"] / sex_cost_dict[key][\"number_of_people\"], 2)\n",
    "        print(f\"The number of {key}'s in the data is {sex_cost_dict[key]['number_of_people']} and the average cost for them is {average_cost} dollars\")\n",
    "    return \"This completes the data\" #prints a formatted string with the number of male/females in the set and the average costs for them\n",
    "\n",
    "print(sex_cost_average(sex, charges))\n",
    "            "
   ]
  },
  {
   "cell_type": "markdown",
   "metadata": {},
   "source": [
    "From the averages above you can see that on average, males pay around $1500 dollars more than females. The dataset contains a roughly equal number of males and females, however it is not possible to tell what the distribution is across the age ranges. It could may well be that males pay more than average across all age ranges, or there could be an age range where the average is less? This would require further analysis."
   ]
  },
  {
   "cell_type": "markdown",
   "metadata": {},
   "source": [
    "# What effect does BMI have on costs?\n",
    "\n",
    "Whilst BMI is not an accurate measure on the health of a person, it can be used as a basic indicator of overall health. BMI is often broken down into four categories\n",
    "* A BMI less than 18.5 is considered underweight\n",
    "* A BMI between 18.5 and 24.9 is considered a healthy BMI\n",
    "* A BMI between 25 and 29.9 is considered overweight\n",
    "* A BMI above 30 is considered obese.\n",
    "\n",
    "We will consider which category pays the highest on average."
   ]
  },
  {
   "cell_type": "code",
   "execution_count": 11,
   "metadata": {},
   "outputs": [
    {
     "name": "stdout",
     "output_type": "stream",
     "text": [
      "There are 20 in the Underweight category and the average cost for this BMI category is 8852.2 dollars\n",
      "There are 225 in the Healthy category and the average cost for this BMI category is 10409.34 dollars\n",
      "There are 386 in the Overweight category and the average cost for this BMI category is 10987.51 dollars\n",
      "There are 707 in the Obese category and the average cost for this BMI category is 15552.34 dollars\n",
      "This completes the data\n"
     ]
    }
   ],
   "source": [
    "def bmi_cost_average(bmi_list, cost_list): #takes in a bmi list and cost list and initializes a dictionary as before\n",
    "    bmi_cost_dict = {\"Underweight\" : {\"number_of_people\": 0, \"total_costs\": 0}, \"Healthy\" : {\"number_of_people\": 0, \"total_costs\": 0}, \"Overweight\" : {\"number_of_people\": 0, \"total_costs\": 0}, \"Obese\" : {\"number_of_people\": 0, \"total_costs\": 0}}\n",
    "    for bmi, cost in zip(bmi_list, cost_list):\n",
    "        if float(bmi) < 18.5: #checks the bmi against the BMI criteria and adds 1 to the number of people in a group as well as the cost\n",
    "            bmi_cost_dict[\"Underweight\"][\"number_of_people\"] += 1\n",
    "            bmi_cost_dict[\"Underweight\"][\"total_costs\"] += float(cost)\n",
    "        elif 18.5 <= float(bmi) < 25:\n",
    "            bmi_cost_dict[\"Healthy\"][\"number_of_people\"] += 1\n",
    "            bmi_cost_dict[\"Healthy\"][\"total_costs\"] += float(cost)\n",
    "        elif 25 <= float(bmi) < 30:\n",
    "            bmi_cost_dict[\"Overweight\"][\"number_of_people\"] += 1\n",
    "            bmi_cost_dict[\"Overweight\"][\"total_costs\"] += float(cost)\n",
    "        else:\n",
    "            bmi_cost_dict[\"Obese\"][\"number_of_people\"] += 1\n",
    "            bmi_cost_dict[\"Obese\"][\"total_costs\"] += float(cost)\n",
    "    for key in bmi_cost_dict.keys():\n",
    "        if bmi_cost_dict[key][\"number_of_people\"] == 0: #error checking to avoid divide by zero errors.\n",
    "            print(f\"There are no people in the BMI category {key}\")\n",
    "        else:\n",
    "            average_cost = round(bmi_cost_dict[key][\"total_costs\"] / bmi_cost_dict[key][\"number_of_people\"], 2)\n",
    "            print(f\"There are {bmi_cost_dict[key]['number_of_people']} in the {key} category and the average cost for this BMI category is {average_cost} dollars\")\n",
    "    return \"This completes the data\" #returns a formatted string with the category, number of people and average costs.\n",
    "\n",
    "print(bmi_cost_average(bmi, charges))"
   ]
  },
  {
   "cell_type": "markdown",
   "metadata": {},
   "source": [
    "From the data above, on average you will pay more as you more up the BMI categories. However there are some caveats.\n",
    "\n",
    "There are only 20 people who would be classified as underweight, meaning this data is not likely to provide a conclusive result since the sample size is so small in comparison to the other categories.\n",
    "\n",
    "The obese category is the most populated category, containing more people than the other three categories combined and they pay on average $4500 dollars more than those in the healthy and overweight categories.\n",
    "\n",
    "The averages for the healthy and the overweight category only have a $500 difference meaning the costs are broadly similar.\n",
    "There may be other factors involved in the obese category. For example, are those who are obese more likely to smoke? There could also be other underlying health factors outside of age, sex and smoking status. \n",
    "\n",
    "A question for further analysis is the distribution across the age brackets and sex categories. Which category are males and females likely to be in grouped by their age bracket for example."
   ]
  },
  {
   "cell_type": "markdown",
   "metadata": {},
   "source": [
    "# Does the number of children you have affect the average insurance costs?\n",
    "\n",
    "The next question to consider is the impact of having children on the costs paid. We will consider if there is a relationship between the number of children and cost. It may be a linear relationship, or something more. \n",
    "\n",
    "This intial analysis will only consider the effect on having children on costs, it will not consider the age of the patient, their region, or other statuses. "
   ]
  },
  {
   "cell_type": "code",
   "execution_count": 33,
   "metadata": {},
   "outputs": [
    {
     "name": "stdout",
     "output_type": "stream",
     "text": [
      "There are 574 people with 0 children and they pay an average cost of 12365.98 dollars\n",
      "There are 324 people with 1 children and they pay an average cost of 12731.17 dollars\n",
      "There are 240 people with 2 children and they pay an average cost of 15073.56 dollars\n",
      "There are 157 people with 3 children and they pay an average cost of 15355.32 dollars\n",
      "There are 25 people with 4 children and they pay an average cost of 13850.66 dollars\n",
      "There are 18 people with 5 children and they pay an average cost of 8786.04 dollars\n",
      "This completes the data\n",
      "The average number of children is 1.1\n"
     ]
    }
   ],
   "source": [
    "def children_cost_average(children_list, cost_list): #takes in a list of number of children and associated costs.\n",
    "    dictionary = {} #initlaizes an empty dictionary\n",
    "    for child, cost in zip(children_list, cost_list):\n",
    "        if int(child) not in dictionary: #if the key doesn't exist, it initializes it with 1 count and the initial cost\n",
    "            dictionary[int(child)] = {\"number_of_people\": 1, \"total_costs\": float(cost)}\n",
    "        else:\n",
    "            dictionary[int(child)][\"number_of_people\"] += 1 #if the key exists, adds 1 to the count and adds the cost on\n",
    "            dictionary[int(child)][\"total_costs\"] += float(cost)\n",
    "    dictionary = dict(sorted(dictionary.items()))\n",
    "    for key in dictionary.keys():\n",
    "        if dictionary[key][\"number_of_people\"] == 0: #error checking to avoid divide by 0.\n",
    "            print(f\"The catgeory {key} has no people in it\")\n",
    "        else:\n",
    "            average_cost = round(dictionary[key][\"total_costs\"] / dictionary[key][\"number_of_people\"], 2)\n",
    "            print(f\"There are {dictionary[key]['number_of_people']} people with {key} children and they pay an average cost of {average_cost} dollars\")\n",
    "    return \"This completes the data\" #calculates the average cost and returns a formatted string displaying the information.\n",
    "\n",
    "print(children_cost_average(children, charges))\n",
    "\n",
    "def average_num_children(children_list):\n",
    "    total_children = 0\n",
    "    total_people = 0\n",
    "    for child in children_list:\n",
    "        total_children += int(child)\n",
    "        total_people += 1\n",
    "    average = round(total_children/total_people, 1)\n",
    "    return f\"The average number of children is {average}\"\n",
    "\n",
    "print(average_num_children(children))\n",
    "        "
   ]
  },
  {
   "cell_type": "markdown",
   "metadata": {},
   "source": [
    "From the data above we can see that the number of children does have an effect on costs but it is not what would be expected.\n",
    "\n",
    "Starting with those with no children, which is the highest populated category, the costs increase per child in a non-linear way up to 3 children. The difference in costs for those with no children and those with 1 child is around \\$350. There is then a large jump of over \\$2000 for those with 2 children, then a small jump similar to the gap between none and 1 up to 3 children. Those with 3 children are likely to pay higher costs on average. However, average costs then decrease for 4 children and then those with 5 children pay the lowest costs on average. These two groups have very little data in with 25 and 18 repspectively, which is consistent with what we would expect as having that many children is uncommon. \n",
    "\n",
    "It is likely further analysis is needed on those groups to identify why their costs are lower on average. It may be those with that many children come from a particular background which means lower costs, or there could be other underlying regions for why this is the case. "
   ]
  },
  {
   "cell_type": "markdown",
   "metadata": {},
   "source": [
    "# What effect does smoking having on insurance costs?\n",
    "\n",
    "The next question we will consider if the effect of smoking on insurance costs. We will only consider smoker status here and no other descriptors. The assumption is that smokers will normally face higher costs due to the additional health risks they are open to, the question is how much more."
   ]
  },
  {
   "cell_type": "code",
   "execution_count": 37,
   "metadata": {},
   "outputs": [
    {
     "name": "stdout",
     "output_type": "stream",
     "text": [
      "There are 274 people |in the smoker category and the average cost is 32050.23 dollars\n",
      "There are 1064 people |in the non-smoker category and the average cost is 8434.27 dollars\n",
      "This completes the data\n"
     ]
    }
   ],
   "source": [
    "def smoker_cost_average(smoker_list, cost_list):\n",
    "    dictionary = {\"smoker\": {\"number_of_people\": 0, \"total_costs\": 0}, \"non-smoker\": {\"number_of_people\": 0, \"total_costs\": 0}}\n",
    "    for smoker, cost in zip(smoker_list, cost_list):\n",
    "        if smoker == \"yes\":\n",
    "            dictionary[\"smoker\"][\"number_of_people\"] += 1\n",
    "            dictionary[\"smoker\"][\"total_costs\"] += float(cost)\n",
    "        elif smoker == \"no\":\n",
    "            dictionary[\"non-smoker\"][\"number_of_people\"] += 1\n",
    "            dictionary[\"non-smoker\"][\"total_costs\"] += float(cost)\n",
    "        else:\n",
    "            continue\n",
    "    for key in dictionary.keys():\n",
    "        if dictionary[key][\"number_of_people\"] == 0:\n",
    "            print(f\"There are no people in the {key} category\")\n",
    "        else:\n",
    "            average_cost = round(dictionary[key][\"total_costs\"] / dictionary[key][\"number_of_people\"], 2)\n",
    "            print(f\"There are {dictionary[key]['number_of_people']} people |in the {key} category and the average cost is {average_cost} dollars\")\n",
    "    return \"This completes the data\"\n",
    "\n",
    "print(smoker_cost_average(smoker, charges))"
   ]
  },
  {
   "cell_type": "markdown",
   "metadata": {},
   "source": [
    "From the data above we can see that smokers are likely to pay almost 4x more in insurance costs than those who do not smoke. \n",
    "\n",
    "This group is the one which has seen the highest difference across the categories than all of those seen so far. Roughly 20% of the dataset are classed as smokers, which begs the question, how are they distributed across the age groups, bmi groups, and region groups? \n",
    "\n",
    "We have seen so far that the older you are the higher your costs, similarly with BMI. Is it the case that smokers are likely to have higher BMI? Are smokers evenly distributed across the age groups, or do some groups have more smokers than others which would significantly impact the average cost.\n",
    "\n",
    "This would require further analysis into the population breakdown of smokers to ascertain which groups are at higher risk of being smokers."
   ]
  },
  {
   "cell_type": "markdown",
   "metadata": {},
   "source": [
    "# Which area has the highest average and lowest average costs?\n",
    "\n",
    "The next question to consider if which area has the highest and lowest average costs. This initial analysis will only consider the area without considering the distribution of age groups, sex and BMI."
   ]
  },
  {
   "cell_type": "code",
   "execution_count": 21,
   "metadata": {},
   "outputs": [
    {
     "name": "stdout",
     "output_type": "stream",
     "text": [
      "{'southwest': {'number_of_people': 325, 'total_costs': 4012754.647620001}, 'southeast': {'number_of_people': 364, 'total_costs': 5363689.763290002}, 'northwest': {'number_of_people': 325, 'total_costs': 4035711.9965399993}, 'northeast': {'number_of_people': 324, 'total_costs': 4343668.583308999}}\n",
      "The southwest region has a total of 325 in the data set, the average costs paid is 12346.94 dollars.\n",
      "The southeast region has a total of 364 in the data set, the average costs paid is 14735.41 dollars.\n",
      "The northwest region has a total of 325 in the data set, the average costs paid is 12417.58 dollars.\n",
      "The northeast region has a total of 324 in the data set, the average costs paid is 13406.38 dollars.\n",
      "This completes the data\n"
     ]
    }
   ],
   "source": [
    "#first find out the different areas in the data set and generates a dictionary totalling number of people and total costs.\n",
    "def identify_areas(region_list, cost_list):\n",
    "    dictionary = {}\n",
    "    for region, cost in zip(region_list, cost_list):\n",
    "        if region not in dictionary: #if the region is not already in the dictionary, it inializes a key with the region and a count of people at 1 with an initial cost\n",
    "            dictionary[region] = {\"number_of_people\": 1, \"total_costs\": float(cost)}\n",
    "        else: #if the region is already in the dictionary, it adds 1 to the people count and adds on the cost\n",
    "            dictionary[region][\"number_of_people\"] += 1\n",
    "            dictionary[region][\"total_costs\"] += float(cost)\n",
    "    return dictionary #returns the dictionary\n",
    "\n",
    "def calculate_region_average(region_list, cost_list): #takes in a list of regions and costs returns the average cost per region\n",
    "    dictionary = identify_areas(region_list, cost_list)\n",
    "    for key in dictionary.keys():\n",
    "        if dictionary[key][\"number_of_people\"] == 0: #error checking to avoid dividing by 0\n",
    "            print(f\"The region called {key} has no people recorded in it\")\n",
    "        else:\n",
    "            average_cost = round(dictionary[key][\"total_costs\"] / dictionary[key][\"number_of_people\"], 2)\n",
    "            print(f\"The {key} region has a total of {dictionary[key]['number_of_people']} in the data set, the average costs paid is {average_cost} dollars.\")\n",
    "    return \"This completes the data\" #calculates the average cost and returns a formatted string.\n",
    "\n",
    "print(identify_areas(region, charges))\n",
    "print(calculate_region_average(region, charges))\n",
    "        \n",
    "            "
   ]
  },
  {
   "cell_type": "markdown",
   "metadata": {},
   "source": [
    "From the data above, we can see that each region is roughly equally represented in the data set with the southwest, northwest and northeast regions having around 324/325 people each. The southeast region has 40 extra people in the dataset, this is unlikely to cause problems with analysis. It is not know  about the population distribution of the greater whole to know if this is a representative dataset of the entire population of which is represents, we are going to assume that the population is roughly evenly distributed across the 4 quarters.\n",
    "\n",
    "We can see that those in the Southwest region pay the lowest costs on average, closely followed by the northwest region with a difference of \\$60. The northeast is next paying \\$1000 more than the northwest region. The southeast region tops the average paying \\$14735.41 on average, which is roughly \\$1300 more than the next highest paying region. \n",
    "\n",
    "This seems to suggest that those living in the southeast are likely to pay significantly more than those in other regions, with the difference between the cheapest region (southwest) and the most expensive (southeast) being 20% more.\n",
    "\n",
    "There could be other underlying reasons for this as we do not consider here the distribution of smokers across the 4 regions, or the distribution of the age groups across these four regions. It could be that those who live in the southeast are likely to smoke more often, or have a higher average age. This would require further investigation."
   ]
  },
  {
   "cell_type": "markdown",
   "metadata": {},
   "source": [
    "# Conclusion\n",
    "\n",
    "After doing some initial analysis on the groups of data presented we can draw the following initial conclusions about our data set, with the caveat that further investigation is necessary to draw concrete conclusions.\n",
    "\n",
    "* The older you are the higher your costs are liklely to be. This makes initial sense with the idea that the older you are, the more health issues you are exposed to with the effect of aging. However the increase is not necessarily linear and would require further modelling\n",
    "* Your sex does have an effect on costs with males paying more on average, however we cannot draw concrete conclusions here. We would need to consider the age distributuon of each sex, as well as the distribution across the other categories that cause increases in costs as described below\n",
    "* Having a higher BMI typically increases your costs. However, the difference between Healthy and Overweight were negligable. Those who were classed as obese had the higher costs on average. Again, it is worth considering the distribution of these across age and smoker brackets.\n",
    "* Having more children does typically increase costs, however it isn't a clear picture. This is because having 4 or 5 children would lower your costs compared to having 3, however these groups had very little representation. Those with 5 children had the lowest costs on average, so no clear conclusion could be drawn here and would require further investigation.\n",
    "* Smoking massively increases your costs on average. As expected being a smoker will increase costs, with increases of roughly 300% more on average. The question is, what is their distribution across the other groups and have these massively higher costs influenced their averages in any way which makes it harder to draw conclusions.\n",
    "* The region you are in does have a small effect on costs, but it is inconclusive with initial analysis. Those living in the southeast faced the lowest costs on average, with those in the southwest facing 20% higher costs. It is difficult to draw any conclusion without considering the distribution of ages, bmi, children and smokers across these regions. It may well be that those who are older, or smoke, or have higher bmi are more likely to be in the southwest. Further analysis would be required here to ascertain why the differences exist.\n",
    "\n",
    "Overall, the biggest factor in costs comes from your smoker status. The sure fire way to reduce costs if you were a smoker is to stop smoking. If you were already a non-smoker, it is inconclusive what you could reasonably do."
   ]
  }
 ],
 "metadata": {
  "kernelspec": {
   "display_name": "Python [conda env:base] *",
   "language": "python",
   "name": "conda-base-py"
  },
  "language_info": {
   "codemirror_mode": {
    "name": "ipython",
    "version": 3
   },
   "file_extension": ".py",
   "mimetype": "text/x-python",
   "name": "python",
   "nbconvert_exporter": "python",
   "pygments_lexer": "ipython3",
   "version": "3.12.7"
  }
 },
 "nbformat": 4,
 "nbformat_minor": 4
}
